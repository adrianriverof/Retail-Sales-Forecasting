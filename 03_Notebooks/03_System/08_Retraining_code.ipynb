{
 "cells": [
  {
   "cell_type": "code",
   "execution_count": 1,
   "id": "76dd8bfb",
   "metadata": {},
   "outputs": [
    {
     "name": "stdout",
     "output_type": "stream",
     "text": [
      "Successfully trained\n"
     ]
    }
   ],
   "source": [
    "import warnings\n",
    "warnings.filterwarnings(\"ignore\")\n",
    "\n",
    "from FunctionsRetail import *\n",
    "\n",
    "\n",
    "#Load data\n",
    "data_path = '../../02_Data/03_Work/work.csv'\n",
    "df = pd.read_csv(data_path,sep=',',parse_dates=['date'],index_col='date')\n",
    "\n",
    "\n",
    "final_variables = ['store_id',\n",
    "                     'item_id',\n",
    "                     'event_name_1',                     \n",
    "                     'month',\n",
    "                     'sell_price',                      \n",
    "                     'wday',\n",
    "                     'weekday',\n",
    "                     'sales']\n",
    "\n",
    "df = df[final_variables]\n",
    "\n",
    "\n",
    "step1_df = data_quality(df)\n",
    "step2_df = create_variables(step1_df)\n",
    "\n",
    "\n",
    "launch_training(step2_df)"
   ]
  }
 ],
 "metadata": {
  "kernelspec": {
   "display_name": "Python 3 (ipykernel)",
   "language": "python",
   "name": "python3"
  },
  "language_info": {
   "codemirror_mode": {
    "name": "ipython",
    "version": 3
   },
   "file_extension": ".py",
   "mimetype": "text/x-python",
   "name": "python",
   "nbconvert_exporter": "python",
   "pygments_lexer": "ipython3",
   "version": "3.11.11"
  }
 },
 "nbformat": 4,
 "nbformat_minor": 5
}
