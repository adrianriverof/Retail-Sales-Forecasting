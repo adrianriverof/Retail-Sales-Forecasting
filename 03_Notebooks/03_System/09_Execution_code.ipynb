{
 "cells": [
  {
   "cell_type": "code",
   "execution_count": 1,
   "id": "ca25d814",
   "metadata": {},
   "outputs": [],
   "source": [
    "import warnings\n",
    "warnings.filterwarnings(\"ignore\")\n",
    "\n",
    "from FunctionsRetail import *\n",
    "\n",
    "\n",
    "\n",
    "#Load the data\n",
    "\n",
    "data_path = '../../02_Data/02_Validation/DataForProduction.csv'\n",
    "df = pd.read_csv(data_path,sep=',',parse_dates=['date'],index_col='date')\n",
    "\n",
    "\n",
    "final_variables = ['store_id',\n",
    "                     'item_id',\n",
    "                     'event_name_1',                     \n",
    "                     'month',\n",
    "                     'sell_price',                      \n",
    "                     'wday',\n",
    "                     'weekday',\n",
    "                     'sales']\n",
    "df = df[final_variables]\n",
    "\n",
    "\n",
    "#Launch prediction\n",
    "forecast = recursive_forecast(df).sort_values(by = ['store_id','item_id'])\n",
    "\n",
    "\n"
   ]
  }
 ],
 "metadata": {
  "kernelspec": {
   "display_name": "Python 3 (ipykernel)",
   "language": "python",
   "name": "python3"
  },
  "language_info": {
   "codemirror_mode": {
    "name": "ipython",
    "version": 3
   },
   "file_extension": ".py",
   "mimetype": "text/x-python",
   "name": "python",
   "nbconvert_exporter": "python",
   "pygments_lexer": "ipython3",
   "version": "3.11.11"
  }
 },
 "nbformat": 4,
 "nbformat_minor": 5
}
