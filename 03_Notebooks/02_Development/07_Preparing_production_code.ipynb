{
 "cells": [
  {
   "cell_type": "markdown",
   "id": "1bc2ca52",
   "metadata": {},
   "source": [
    "# Packing the process in functions"
   ]
  },
  {
   "cell_type": "code",
   "execution_count": null,
   "id": "14440f55",
   "metadata": {},
   "outputs": [],
   "source": [
    "def data_quality(x):\n",
    "    \n",
    "    \n",
    "    #modify types\n",
    "    temp = x.astype({'month': 'O', 'wday': 'O'})\n",
    "    \n",
    "    # nulls\n",
    "    temp.event_name_1.fillna('No_event', inplace=True)\n",
    "    \n",
    "    # impute by mode\n",
    "    temp.sell_price = temp.groupby('item_id')['sell_price'].transform(lambda x: x.fillna(x.mode()[0]))\n",
    "\n",
    "    return temp\n",
    "    "
   ]
  },
  {
   "cell_type": "code",
   "execution_count": 2,
   "id": "f77f2579",
   "metadata": {},
   "outputs": [],
   "source": [
    "import pandas as pd"
   ]
  },
  {
   "cell_type": "code",
   "execution_count": 34,
   "id": "b3cb4cc0",
   "metadata": {},
   "outputs": [],
   "source": [
    "df = pd.read_csv('../../02_Data/03_Work/work.csv',parse_dates=['date'],index_col='date')"
   ]
  },
  {
   "cell_type": "code",
   "execution_count": 35,
   "id": "7db99c9a",
   "metadata": {},
   "outputs": [
    {
     "name": "stderr",
     "output_type": "stream",
     "text": [
      "/tmp/ipykernel_286508/2456279175.py:2: FutureWarning: A value is trying to be set on a copy of a DataFrame or Series through chained assignment using an inplace method.\n",
      "The behavior will change in pandas 3.0. This inplace method will never work because the intermediate object on which we are setting values always behaves as a copy.\n",
      "\n",
      "For example, when doing 'df[col].method(value, inplace=True)', try using 'df.method({col: value}, inplace=True)' or df[col] = df[col].method(value) instead, to perform the operation inplace on the original object.\n",
      "\n",
      "\n",
      "  temp.event_name_1.fillna('No_event', inplace=True)\n"
     ]
    }
   ],
   "source": [
    "temp = df.astype({'month': 'O', 'wday': 'O'})\n",
    "temp.event_name_1.fillna('No_event', inplace=True)"
   ]
  },
  {
   "cell_type": "code",
   "execution_count": 38,
   "id": "c9959843",
   "metadata": {},
   "outputs": [
    {
     "data": {
      "text/plain": [
       "71"
      ]
     },
     "execution_count": 38,
     "metadata": {},
     "output_type": "execute_result"
    }
   ],
   "source": [
    "temp.sell_price.isna().sum()"
   ]
  },
  {
   "cell_type": "code",
   "execution_count": 42,
   "id": "e1ee03aa",
   "metadata": {},
   "outputs": [],
   "source": [
    "\n",
    "temp.sell_price = temp.groupby('item_id')['sell_price'].transform(lambda x: x.fillna(x.mode()[0]))\n",
    "\n"
   ]
  },
  {
   "cell_type": "code",
   "execution_count": null,
   "id": "897786dc",
   "metadata": {},
   "outputs": [],
   "source": [
    "def calidad_datos(x):\n",
    "    \n",
    "    #Modificar tipos\n",
    "    temp = x.astype({'month': 'O', 'wday': 'O'})             \n",
    "    \n",
    "    #Imputar nulos\n",
    "    temp.loc[x['event_name_1'].isna(),'event_name_1'] = 'Sin_evento'\n",
    "    \n",
    "    def imputar_moda(registros):\n",
    "        #Calcula la moda del precio en ese producto\n",
    "        moda = registros.sell_price.mode()[0]\n",
    "        #Imputa los nulos\n",
    "        registros.loc[registros.sell_price.isna(),'sell_price'] = moda\n",
    "        #Devuelve todos los registros del producto\n",
    "        return(registros)\n",
    "\n",
    "    temp = temp.groupby('item_id', group_keys=False).apply(imputar_moda)\n",
    "      \n",
    "    return(temp)"
   ]
  }
 ],
 "metadata": {
  "kernelspec": {
   "display_name": "Python 3 (ipykernel)",
   "language": "python",
   "name": "python3"
  },
  "language_info": {
   "codemirror_mode": {
    "name": "ipython",
    "version": 3
   },
   "file_extension": ".py",
   "mimetype": "text/x-python",
   "name": "python",
   "nbconvert_exporter": "python",
   "pygments_lexer": "ipython3",
   "version": "3.11.11"
  }
 },
 "nbformat": 4,
 "nbformat_minor": 5
}
