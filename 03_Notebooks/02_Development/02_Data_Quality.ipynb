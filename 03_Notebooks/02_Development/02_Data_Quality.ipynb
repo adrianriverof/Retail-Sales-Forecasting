{
 "cells": [
  {
   "cell_type": "markdown",
   "id": "fe568cb4",
   "metadata": {},
   "source": [
    "### Load and import"
   ]
  },
  {
   "cell_type": "code",
   "execution_count": 1,
   "id": "033ea650",
   "metadata": {},
   "outputs": [],
   "source": [
    "import numpy as np\n",
    "import pandas as pd\n",
    "from janitor import clean_names\n",
    "%config IPCompleter.greedy=True"
   ]
  },
  {
   "cell_type": "code",
   "execution_count": 2,
   "id": "3fab7a2b",
   "metadata": {},
   "outputs": [],
   "source": [
    "df = pd.read_csv('../../02_Data/03_Work/work.csv',parse_dates=['date'],index_col='date')"
   ]
  },
  {
   "cell_type": "code",
   "execution_count": 3,
   "id": "3c4db170",
   "metadata": {},
   "outputs": [
    {
     "data": {
      "text/html": [
       "<div>\n",
       "<style scoped>\n",
       "    .dataframe tbody tr th:only-of-type {\n",
       "        vertical-align: middle;\n",
       "    }\n",
       "\n",
       "    .dataframe tbody tr th {\n",
       "        vertical-align: top;\n",
       "    }\n",
       "\n",
       "    .dataframe thead th {\n",
       "        text-align: right;\n",
       "    }\n",
       "</style>\n",
       "<table border=\"1\" class=\"dataframe\">\n",
       "  <thead>\n",
       "    <tr style=\"text-align: right;\">\n",
       "      <th></th>\n",
       "      <th>state_id</th>\n",
       "      <th>store_id</th>\n",
       "      <th>dept_id</th>\n",
       "      <th>cat_id</th>\n",
       "      <th>item_id</th>\n",
       "      <th>wm_yr_wk</th>\n",
       "      <th>d</th>\n",
       "      <th>sales</th>\n",
       "      <th>sell_price</th>\n",
       "      <th>year</th>\n",
       "      <th>month</th>\n",
       "      <th>wday</th>\n",
       "      <th>weekday</th>\n",
       "      <th>event_name_1</th>\n",
       "      <th>event_type_1</th>\n",
       "      <th>event_name_2</th>\n",
       "      <th>event_type_2</th>\n",
       "    </tr>\n",
       "    <tr>\n",
       "      <th>date</th>\n",
       "      <th></th>\n",
       "      <th></th>\n",
       "      <th></th>\n",
       "      <th></th>\n",
       "      <th></th>\n",
       "      <th></th>\n",
       "      <th></th>\n",
       "      <th></th>\n",
       "      <th></th>\n",
       "      <th></th>\n",
       "      <th></th>\n",
       "      <th></th>\n",
       "      <th></th>\n",
       "      <th></th>\n",
       "      <th></th>\n",
       "      <th></th>\n",
       "      <th></th>\n",
       "    </tr>\n",
       "  </thead>\n",
       "  <tbody>\n",
       "    <tr>\n",
       "      <th>2013-01-01</th>\n",
       "      <td>CA</td>\n",
       "      <td>CA_3</td>\n",
       "      <td>FOODS_3</td>\n",
       "      <td>FOODS</td>\n",
       "      <td>FOODS_3_090</td>\n",
       "      <td>11249</td>\n",
       "      <td>d_704</td>\n",
       "      <td>0</td>\n",
       "      <td>1.25</td>\n",
       "      <td>2013</td>\n",
       "      <td>1</td>\n",
       "      <td>4</td>\n",
       "      <td>Tuesday</td>\n",
       "      <td>NewYear</td>\n",
       "      <td>National</td>\n",
       "      <td>NaN</td>\n",
       "      <td>NaN</td>\n",
       "    </tr>\n",
       "    <tr>\n",
       "      <th>2013-01-01</th>\n",
       "      <td>CA</td>\n",
       "      <td>CA_3</td>\n",
       "      <td>FOODS_3</td>\n",
       "      <td>FOODS</td>\n",
       "      <td>FOODS_3_120</td>\n",
       "      <td>11249</td>\n",
       "      <td>d_704</td>\n",
       "      <td>0</td>\n",
       "      <td>4.98</td>\n",
       "      <td>2013</td>\n",
       "      <td>1</td>\n",
       "      <td>4</td>\n",
       "      <td>Tuesday</td>\n",
       "      <td>NewYear</td>\n",
       "      <td>National</td>\n",
       "      <td>NaN</td>\n",
       "      <td>NaN</td>\n",
       "    </tr>\n",
       "    <tr>\n",
       "      <th>2013-01-01</th>\n",
       "      <td>CA</td>\n",
       "      <td>CA_3</td>\n",
       "      <td>FOODS_3</td>\n",
       "      <td>FOODS</td>\n",
       "      <td>FOODS_3_202</td>\n",
       "      <td>11249</td>\n",
       "      <td>d_704</td>\n",
       "      <td>20</td>\n",
       "      <td>4.28</td>\n",
       "      <td>2013</td>\n",
       "      <td>1</td>\n",
       "      <td>4</td>\n",
       "      <td>Tuesday</td>\n",
       "      <td>NewYear</td>\n",
       "      <td>National</td>\n",
       "      <td>NaN</td>\n",
       "      <td>NaN</td>\n",
       "    </tr>\n",
       "    <tr>\n",
       "      <th>2013-01-01</th>\n",
       "      <td>CA</td>\n",
       "      <td>CA_3</td>\n",
       "      <td>FOODS_3</td>\n",
       "      <td>FOODS</td>\n",
       "      <td>FOODS_3_252</td>\n",
       "      <td>11249</td>\n",
       "      <td>d_704</td>\n",
       "      <td>34</td>\n",
       "      <td>1.48</td>\n",
       "      <td>2013</td>\n",
       "      <td>1</td>\n",
       "      <td>4</td>\n",
       "      <td>Tuesday</td>\n",
       "      <td>NewYear</td>\n",
       "      <td>National</td>\n",
       "      <td>NaN</td>\n",
       "      <td>NaN</td>\n",
       "    </tr>\n",
       "    <tr>\n",
       "      <th>2013-01-01</th>\n",
       "      <td>CA</td>\n",
       "      <td>CA_3</td>\n",
       "      <td>FOODS_3</td>\n",
       "      <td>FOODS</td>\n",
       "      <td>FOODS_3_288</td>\n",
       "      <td>11249</td>\n",
       "      <td>d_704</td>\n",
       "      <td>0</td>\n",
       "      <td>NaN</td>\n",
       "      <td>2013</td>\n",
       "      <td>1</td>\n",
       "      <td>4</td>\n",
       "      <td>Tuesday</td>\n",
       "      <td>NewYear</td>\n",
       "      <td>National</td>\n",
       "      <td>NaN</td>\n",
       "      <td>NaN</td>\n",
       "    </tr>\n",
       "  </tbody>\n",
       "</table>\n",
       "</div>"
      ],
      "text/plain": [
       "           state_id store_id  dept_id cat_id      item_id  wm_yr_wk      d  \\\n",
       "date                                                                         \n",
       "2013-01-01       CA     CA_3  FOODS_3  FOODS  FOODS_3_090     11249  d_704   \n",
       "2013-01-01       CA     CA_3  FOODS_3  FOODS  FOODS_3_120     11249  d_704   \n",
       "2013-01-01       CA     CA_3  FOODS_3  FOODS  FOODS_3_202     11249  d_704   \n",
       "2013-01-01       CA     CA_3  FOODS_3  FOODS  FOODS_3_252     11249  d_704   \n",
       "2013-01-01       CA     CA_3  FOODS_3  FOODS  FOODS_3_288     11249  d_704   \n",
       "\n",
       "            sales  sell_price  year  month  wday  weekday event_name_1  \\\n",
       "date                                                                     \n",
       "2013-01-01      0        1.25  2013      1     4  Tuesday      NewYear   \n",
       "2013-01-01      0        4.98  2013      1     4  Tuesday      NewYear   \n",
       "2013-01-01     20        4.28  2013      1     4  Tuesday      NewYear   \n",
       "2013-01-01     34        1.48  2013      1     4  Tuesday      NewYear   \n",
       "2013-01-01      0         NaN  2013      1     4  Tuesday      NewYear   \n",
       "\n",
       "           event_type_1 event_name_2 event_type_2  \n",
       "date                                               \n",
       "2013-01-01     National          NaN          NaN  \n",
       "2013-01-01     National          NaN          NaN  \n",
       "2013-01-01     National          NaN          NaN  \n",
       "2013-01-01     National          NaN          NaN  \n",
       "2013-01-01     National          NaN          NaN  "
      ]
     },
     "execution_count": 3,
     "metadata": {},
     "output_type": "execute_result"
    }
   ],
   "source": [
    "df.head()"
   ]
  },
  {
   "cell_type": "markdown",
   "id": "0dbac7ad",
   "metadata": {},
   "source": [
    "### Identify"
   ]
  },
  {
   "cell_type": "code",
   "execution_count": 4,
   "id": "fd25e9b3",
   "metadata": {},
   "outputs": [
    {
     "name": "stdout",
     "output_type": "stream",
     "text": [
      "<class 'pandas.core.frame.DataFrame'>\n",
      "DatetimeIndex: 21280 entries, 2013-01-01 to 2015-11-30\n",
      "Data columns (total 17 columns):\n",
      " #   Column        Non-Null Count  Dtype  \n",
      "---  ------        --------------  -----  \n",
      " 0   state_id      21280 non-null  object \n",
      " 1   store_id      21280 non-null  object \n",
      " 2   dept_id       21280 non-null  object \n",
      " 3   cat_id        21280 non-null  object \n",
      " 4   item_id       21280 non-null  object \n",
      " 5   wm_yr_wk      21280 non-null  int64  \n",
      " 6   d             21280 non-null  object \n",
      " 7   sales         21280 non-null  int64  \n",
      " 8   sell_price    21209 non-null  float64\n",
      " 9   year          21280 non-null  int64  \n",
      " 10  month         21280 non-null  int64  \n",
      " 11  wday          21280 non-null  int64  \n",
      " 12  weekday       21280 non-null  object \n",
      " 13  event_name_1  1700 non-null   object \n",
      " 14  event_type_1  1700 non-null   object \n",
      " 15  event_name_2  60 non-null     object \n",
      " 16  event_type_2  60 non-null     object \n",
      "dtypes: float64(1), int64(5), object(11)\n",
      "memory usage: 2.9+ MB\n"
     ]
    }
   ],
   "source": [
    "df.info()"
   ]
  },
  {
   "cell_type": "code",
   "execution_count": 5,
   "id": "e9d0c451",
   "metadata": {},
   "outputs": [
    {
     "data": {
      "text/plain": [
       "state_id         object\n",
       "store_id         object\n",
       "dept_id          object\n",
       "cat_id           object\n",
       "item_id          object\n",
       "wm_yr_wk          int64\n",
       "d                object\n",
       "sales             int64\n",
       "sell_price      float64\n",
       "year              int64\n",
       "month             int64\n",
       "wday              int64\n",
       "weekday          object\n",
       "event_name_1     object\n",
       "event_type_1     object\n",
       "event_name_2     object\n",
       "event_type_2     object\n",
       "dtype: object"
      ]
     },
     "execution_count": 5,
     "metadata": {},
     "output_type": "execute_result"
    }
   ],
   "source": [
    "df.dtypes"
   ]
  },
  {
   "cell_type": "code",
   "execution_count": 6,
   "id": "02413146",
   "metadata": {},
   "outputs": [
    {
     "data": {
      "text/plain": [
       "state_id         object\n",
       "store_id         object\n",
       "dept_id          object\n",
       "cat_id           object\n",
       "item_id          object\n",
       "wm_yr_wk          int64\n",
       "d                object\n",
       "sales             int64\n",
       "sell_price      float64\n",
       "year             object\n",
       "month            object\n",
       "wday             object\n",
       "weekday          object\n",
       "event_name_1     object\n",
       "event_type_1     object\n",
       "event_name_2     object\n",
       "event_type_2     object\n",
       "dtype: object"
      ]
     },
     "execution_count": 6,
     "metadata": {},
     "output_type": "execute_result"
    }
   ],
   "source": [
    "df = df.astype({'year':'object',\n",
    "               'month': 'O',\n",
    "               'wday': 'O'})\n",
    "\n",
    "df.dtypes"
   ]
  },
  {
   "cell_type": "markdown",
   "id": "0a815ed3",
   "metadata": {},
   "source": [
    "### Unique values"
   ]
  },
  {
   "cell_type": "code",
   "execution_count": 7,
   "id": "1c444af4",
   "metadata": {},
   "outputs": [
    {
     "data": {
      "text/plain": [
       "state_id           1\n",
       "dept_id            1\n",
       "cat_id             1\n",
       "store_id           2\n",
       "event_type_2       2\n",
       "event_name_2       3\n",
       "year               3\n",
       "event_type_1       4\n",
       "weekday            7\n",
       "wday               7\n",
       "item_id           10\n",
       "month             12\n",
       "sell_price        23\n",
       "event_name_1      30\n",
       "wm_yr_wk         153\n",
       "sales            301\n",
       "d               1064\n",
       "dtype: int64"
      ]
     },
     "execution_count": 7,
     "metadata": {},
     "output_type": "execute_result"
    }
   ],
   "source": [
    "df.nunique().sort_values()"
   ]
  },
  {
   "cell_type": "code",
   "execution_count": 8,
   "id": "eec6d7fa",
   "metadata": {},
   "outputs": [],
   "source": [
    "df = df.drop_constant_columns()"
   ]
  },
  {
   "cell_type": "markdown",
   "id": "4e99331b",
   "metadata": {},
   "source": [
    "### Duplicates"
   ]
  },
  {
   "cell_type": "code",
   "execution_count": 9,
   "id": "d9ea54d4",
   "metadata": {},
   "outputs": [
    {
     "data": {
      "text/plain": [
       "0"
      ]
     },
     "execution_count": 9,
     "metadata": {},
     "output_type": "execute_result"
    }
   ],
   "source": [
    "df.duplicated().sum()"
   ]
  },
  {
   "cell_type": "markdown",
   "id": "b5b4b547",
   "metadata": {},
   "source": [
    "### Separate categoric/numeric"
   ]
  },
  {
   "cell_type": "code",
   "execution_count": 69,
   "id": "9ce635d4",
   "metadata": {},
   "outputs": [],
   "source": [
    "cat= df.select_dtypes(exclude = 'number').copy()\n",
    "num = df.select_dtypes(include = 'number').copy()"
   ]
  },
  {
   "cell_type": "markdown",
   "id": "dbdd6b86",
   "metadata": {},
   "source": [
    "### Manage categoric"
   ]
  },
  {
   "cell_type": "markdown",
   "id": "edd6fc84",
   "metadata": {},
   "source": [
    "#### Nulls"
   ]
  },
  {
   "cell_type": "code",
   "execution_count": 70,
   "id": "aa0d3060",
   "metadata": {},
   "outputs": [
    {
     "data": {
      "text/plain": [
       "event_name_2    21220\n",
       "event_type_2    21220\n",
       "event_name_1    19580\n",
       "event_type_1    19580\n",
       "d                   0\n",
       "store_id            0\n",
       "item_id             0\n",
       "weekday             0\n",
       "wday                0\n",
       "month               0\n",
       "year                0\n",
       "dtype: int64"
      ]
     },
     "execution_count": 70,
     "metadata": {},
     "output_type": "execute_result"
    }
   ],
   "source": [
    "cat.isna().sum().sort_values(ascending = False)"
   ]
  },
  {
   "cell_type": "code",
   "execution_count": 71,
   "id": "2e82e4b4",
   "metadata": {},
   "outputs": [
    {
     "data": {
      "text/plain": [
       "event_name_1\n",
       "NaN                    19580\n",
       "NewYear                   60\n",
       "OrthodoxChristmas         60\n",
       "MartinLutherKingDay       60\n",
       "SuperBowl                 60\n",
       "LentStart                 60\n",
       "ValentinesDay             60\n",
       "PresidentsDay             60\n",
       "LentWeek2                 60\n",
       "Purim End                 60\n",
       "StPatricksDay             60\n",
       "Easter                    60\n",
       "Pesach End                60\n",
       "Mother's day              60\n",
       "MemorialDay               60\n",
       "Thanksgiving              60\n",
       "NBAFinalsStart            60\n",
       "NBAFinalsEnd              60\n",
       "IndependenceDay           60\n",
       "Eid al-Fitr               60\n",
       "Ramadan starts            60\n",
       "LaborDay                  60\n",
       "ColumbusDay               60\n",
       "Halloween                 60\n",
       "EidAlAdha                 60\n",
       "VeteransDay               60\n",
       "OrthodoxEaster            40\n",
       "Father's day              40\n",
       "Chanukah End              40\n",
       "Christmas                 40\n",
       "Cinco De Mayo             40\n",
       "Name: count, dtype: int64"
      ]
     },
     "execution_count": 71,
     "metadata": {},
     "output_type": "execute_result"
    }
   ],
   "source": [
    "cat.event_name_1.value_counts(dropna= False)"
   ]
  },
  {
   "cell_type": "code",
   "execution_count": 72,
   "id": "00d6aa2c",
   "metadata": {},
   "outputs": [],
   "source": [
    "# nulls are not lost data, but real information (the day is just a normal day)"
   ]
  },
  {
   "cell_type": "code",
   "execution_count": 73,
   "id": "c4d24094",
   "metadata": {},
   "outputs": [
    {
     "data": {
      "text/plain": [
       "event_name_2\n",
       "NaN               21220\n",
       "Cinco De Mayo        20\n",
       "OrthodoxEaster       20\n",
       "Father's day         20\n",
       "Name: count, dtype: int64"
      ]
     },
     "execution_count": 73,
     "metadata": {},
     "output_type": "execute_result"
    }
   ],
   "source": [
    "cat.event_name_2.value_counts(dropna= False)"
   ]
  },
  {
   "cell_type": "code",
   "execution_count": 74,
   "id": "174541eb",
   "metadata": {},
   "outputs": [
    {
     "data": {
      "text/plain": [
       "event_type_1\n",
       "NaN          19580\n",
       "National       580\n",
       "Religious      560\n",
       "Cultural       380\n",
       "Sporting       180\n",
       "Name: count, dtype: int64"
      ]
     },
     "execution_count": 74,
     "metadata": {},
     "output_type": "execute_result"
    }
   ],
   "source": [
    "cat.event_type_1.value_counts(dropna= False)"
   ]
  },
  {
   "cell_type": "code",
   "execution_count": 75,
   "id": "573180f3",
   "metadata": {},
   "outputs": [
    {
     "data": {
      "text/plain": [
       "event_type_2\n",
       "NaN          21220\n",
       "Cultural        40\n",
       "Religious       20\n",
       "Name: count, dtype: int64"
      ]
     },
     "execution_count": 75,
     "metadata": {},
     "output_type": "execute_result"
    }
   ],
   "source": [
    "cat.event_type_2.value_counts(dropna= False)"
   ]
  },
  {
   "cell_type": "code",
   "execution_count": 76,
   "id": "5b6079a7",
   "metadata": {},
   "outputs": [
    {
     "data": {
      "text/html": [
       "<div>\n",
       "<style scoped>\n",
       "    .dataframe tbody tr th:only-of-type {\n",
       "        vertical-align: middle;\n",
       "    }\n",
       "\n",
       "    .dataframe tbody tr th {\n",
       "        vertical-align: top;\n",
       "    }\n",
       "\n",
       "    .dataframe thead th {\n",
       "        text-align: right;\n",
       "    }\n",
       "</style>\n",
       "<table border=\"1\" class=\"dataframe\">\n",
       "  <thead>\n",
       "    <tr style=\"text-align: right;\">\n",
       "      <th>event_name_2</th>\n",
       "      <th>Cinco De Mayo</th>\n",
       "      <th>Father's day</th>\n",
       "      <th>OrthodoxEaster</th>\n",
       "    </tr>\n",
       "    <tr>\n",
       "      <th>event_name_1</th>\n",
       "      <th></th>\n",
       "      <th></th>\n",
       "      <th></th>\n",
       "    </tr>\n",
       "  </thead>\n",
       "  <tbody>\n",
       "    <tr>\n",
       "      <th>Easter</th>\n",
       "      <td>0</td>\n",
       "      <td>0</td>\n",
       "      <td>20</td>\n",
       "    </tr>\n",
       "    <tr>\n",
       "      <th>NBAFinalsEnd</th>\n",
       "      <td>0</td>\n",
       "      <td>20</td>\n",
       "      <td>0</td>\n",
       "    </tr>\n",
       "    <tr>\n",
       "      <th>OrthodoxEaster</th>\n",
       "      <td>20</td>\n",
       "      <td>0</td>\n",
       "      <td>0</td>\n",
       "    </tr>\n",
       "  </tbody>\n",
       "</table>\n",
       "</div>"
      ],
      "text/plain": [
       "event_name_2    Cinco De Mayo  Father's day  OrthodoxEaster\n",
       "event_name_1                                               \n",
       "Easter                      0             0              20\n",
       "NBAFinalsEnd                0            20               0\n",
       "OrthodoxEaster             20             0               0"
      ]
     },
     "execution_count": 76,
     "metadata": {},
     "output_type": "execute_result"
    }
   ],
   "source": [
    "# let's see how event names relate\n",
    "\n",
    "pd.crosstab(index = cat.event_name_1, columns = cat.event_name_2)"
   ]
  },
  {
   "cell_type": "code",
   "execution_count": 77,
   "id": "e2800512",
   "metadata": {},
   "outputs": [],
   "source": [
    "#event_name_2 have repeated events included in event_name_1\n",
    "# also they don't match\n",
    "# event_2 seems less reliable, so we are going to drop it.\n",
    "\n",
    "# nulls are just regular days"
   ]
  },
  {
   "cell_type": "markdown",
   "id": "d169e81b",
   "metadata": {},
   "source": [
    "####  correcting nulls"
   ]
  },
  {
   "cell_type": "code",
   "execution_count": 78,
   "id": "3c6449d7",
   "metadata": {},
   "outputs": [],
   "source": [
    "cat.drop(columns = ['event_name_2','event_type_2'],inplace = True)"
   ]
  },
  {
   "cell_type": "code",
   "execution_count": 79,
   "id": "5b16a790",
   "metadata": {},
   "outputs": [],
   "source": [
    "var_to_impute_by_value = ['event_name_1','event_type_1']\n",
    "value = 'No_event'\n",
    "cat[var_to_impute_by_value] = cat[var_to_impute_by_value].fillna(value)"
   ]
  },
  {
   "cell_type": "code",
   "execution_count": 80,
   "id": "5e3675e0",
   "metadata": {
    "scrolled": false
   },
   "outputs": [
    {
     "data": {
      "text/plain": [
       "store_id        0\n",
       "item_id         0\n",
       "d               0\n",
       "year            0\n",
       "month           0\n",
       "wday            0\n",
       "weekday         0\n",
       "event_name_1    0\n",
       "event_type_1    0\n",
       "dtype: int64"
      ]
     },
     "execution_count": 80,
     "metadata": {},
     "output_type": "execute_result"
    }
   ],
   "source": [
    "cat.isna().sum().sort_values(ascending = True)"
   ]
  },
  {
   "cell_type": "markdown",
   "id": "8cbb3945",
   "metadata": {},
   "source": [
    "#### Atypicals"
   ]
  },
  {
   "cell_type": "code",
   "execution_count": 81,
   "id": "ee32bee9",
   "metadata": {
    "scrolled": false
   },
   "outputs": [
    {
     "name": "stdout",
     "output_type": "stream",
     "text": [
      "store_id\n",
      "\n",
      "store_id\n",
      "CA_3    10640\n",
      "CA_4    10640\n",
      "Name: count, dtype: int64\n",
      "\n",
      "\n",
      "\n",
      "item_id\n",
      "\n",
      "item_id\n",
      "FOODS_3_090    2128\n",
      "FOODS_3_120    2128\n",
      "FOODS_3_202    2128\n",
      "FOODS_3_252    2128\n",
      "FOODS_3_288    2128\n",
      "FOODS_3_329    2128\n",
      "FOODS_3_555    2128\n",
      "FOODS_3_586    2128\n",
      "FOODS_3_587    2128\n",
      "FOODS_3_714    2128\n",
      "Name: count, dtype: int64\n",
      "\n",
      "\n",
      "\n",
      "d\n",
      "\n",
      "d\n",
      "d_1767    20\n",
      "d_704     20\n",
      "d_705     20\n",
      "d_706     20\n",
      "d_707     20\n",
      "          ..\n",
      "d_715     20\n",
      "d_716     20\n",
      "d_717     20\n",
      "d_718     20\n",
      "d_719     20\n",
      "Name: count, Length: 1064, dtype: int64\n",
      "\n",
      "\n",
      "\n",
      "year\n",
      "\n",
      "year\n",
      "2013    7300\n",
      "2014    7300\n",
      "2015    6680\n",
      "Name: count, dtype: int64\n",
      "\n",
      "\n",
      "\n",
      "month\n",
      "\n",
      "month\n",
      "1     1860\n",
      "3     1860\n",
      "7     1860\n",
      "5     1860\n",
      "8     1860\n",
      "10    1860\n",
      "6     1800\n",
      "4     1800\n",
      "11    1800\n",
      "9     1800\n",
      "2     1680\n",
      "12    1240\n",
      "Name: count, dtype: int64\n",
      "\n",
      "\n",
      "\n",
      "wday\n",
      "\n",
      "wday\n",
      "4    3040\n",
      "5    3040\n",
      "6    3040\n",
      "7    3040\n",
      "1    3040\n",
      "2    3040\n",
      "3    3040\n",
      "Name: count, dtype: int64\n",
      "\n",
      "\n",
      "\n",
      "weekday\n",
      "\n",
      "weekday\n",
      "Tuesday      3040\n",
      "Wednesday    3040\n",
      "Thursday     3040\n",
      "Friday       3040\n",
      "Saturday     3040\n",
      "Sunday       3040\n",
      "Monday       3040\n",
      "Name: count, dtype: int64\n",
      "\n",
      "\n",
      "\n",
      "event_name_1\n",
      "\n",
      "event_name_1\n",
      "No_event               19580\n",
      "NewYear                   60\n",
      "OrthodoxChristmas         60\n",
      "MartinLutherKingDay       60\n",
      "SuperBowl                 60\n",
      "LentStart                 60\n",
      "ValentinesDay             60\n",
      "PresidentsDay             60\n",
      "LentWeek2                 60\n",
      "Purim End                 60\n",
      "StPatricksDay             60\n",
      "Easter                    60\n",
      "Pesach End                60\n",
      "Mother's day              60\n",
      "MemorialDay               60\n",
      "Thanksgiving              60\n",
      "NBAFinalsStart            60\n",
      "NBAFinalsEnd              60\n",
      "IndependenceDay           60\n",
      "Eid al-Fitr               60\n",
      "Ramadan starts            60\n",
      "LaborDay                  60\n",
      "ColumbusDay               60\n",
      "Halloween                 60\n",
      "EidAlAdha                 60\n",
      "VeteransDay               60\n",
      "OrthodoxEaster            40\n",
      "Father's day              40\n",
      "Chanukah End              40\n",
      "Christmas                 40\n",
      "Cinco De Mayo             40\n",
      "Name: count, dtype: int64\n",
      "\n",
      "\n",
      "\n",
      "event_type_1\n",
      "\n",
      "event_type_1\n",
      "No_event     19580\n",
      "National       580\n",
      "Religious      560\n",
      "Cultural       380\n",
      "Sporting       180\n",
      "Name: count, dtype: int64\n",
      "\n",
      "\n",
      "\n"
     ]
    }
   ],
   "source": [
    "for variable in cat:\n",
    "    print(variable + '\\n')\n",
    "    print(cat[variable].value_counts(dropna = False))\n",
    "    print('\\n\\n')"
   ]
  },
  {
   "cell_type": "code",
   "execution_count": 82,
   "id": "987b97ab",
   "metadata": {},
   "outputs": [],
   "source": [
    "# - There aren't uncommon categories\n",
    "# - there are some months with less entries, may be months with less than 31 days\n",
    "# - 2015 have less entries, the validation ones we extracted"
   ]
  },
  {
   "cell_type": "code",
   "execution_count": 83,
   "id": "2df319a3",
   "metadata": {},
   "outputs": [
    {
     "data": {
      "text/plain": [
       "year\n",
       "2013    365\n",
       "2014    365\n",
       "2015    334\n",
       "Name: d, dtype: int64"
      ]
     },
     "execution_count": 83,
     "metadata": {},
     "output_type": "execute_result"
    }
   ],
   "source": [
    "df.groupby('year').d.nunique()"
   ]
  },
  {
   "cell_type": "markdown",
   "id": "53e3eae2",
   "metadata": {},
   "source": [
    "### Manage Numeric"
   ]
  },
  {
   "cell_type": "code",
   "execution_count": 84,
   "id": "65e0cdc2",
   "metadata": {},
   "outputs": [
    {
     "data": {
      "text/html": [
       "<div>\n",
       "<style scoped>\n",
       "    .dataframe tbody tr th:only-of-type {\n",
       "        vertical-align: middle;\n",
       "    }\n",
       "\n",
       "    .dataframe tbody tr th {\n",
       "        vertical-align: top;\n",
       "    }\n",
       "\n",
       "    .dataframe thead th {\n",
       "        text-align: right;\n",
       "    }\n",
       "</style>\n",
       "<table border=\"1\" class=\"dataframe\">\n",
       "  <thead>\n",
       "    <tr style=\"text-align: right;\">\n",
       "      <th></th>\n",
       "      <th>count</th>\n",
       "      <th>mean</th>\n",
       "      <th>std</th>\n",
       "      <th>min</th>\n",
       "      <th>25%</th>\n",
       "      <th>50%</th>\n",
       "      <th>75%</th>\n",
       "      <th>max</th>\n",
       "    </tr>\n",
       "  </thead>\n",
       "  <tbody>\n",
       "    <tr>\n",
       "      <th>wm_yr_wk</th>\n",
       "      <td>21280.0</td>\n",
       "      <td>11415.022556</td>\n",
       "      <td>82.874752</td>\n",
       "      <td>11249.0</td>\n",
       "      <td>11335.0</td>\n",
       "      <td>11420.00</td>\n",
       "      <td>11506.00</td>\n",
       "      <td>11544.00</td>\n",
       "    </tr>\n",
       "    <tr>\n",
       "      <th>sales</th>\n",
       "      <td>21280.0</td>\n",
       "      <td>28.874577</td>\n",
       "      <td>38.988147</td>\n",
       "      <td>0.0</td>\n",
       "      <td>6.0</td>\n",
       "      <td>18.00</td>\n",
       "      <td>37.00</td>\n",
       "      <td>763.00</td>\n",
       "    </tr>\n",
       "    <tr>\n",
       "      <th>sell_price</th>\n",
       "      <td>21209.0</td>\n",
       "      <td>2.397254</td>\n",
       "      <td>1.237024</td>\n",
       "      <td>1.0</td>\n",
       "      <td>1.5</td>\n",
       "      <td>1.58</td>\n",
       "      <td>2.98</td>\n",
       "      <td>4.98</td>\n",
       "    </tr>\n",
       "  </tbody>\n",
       "</table>\n",
       "</div>"
      ],
      "text/plain": [
       "              count          mean        std      min      25%       50%  \\\n",
       "wm_yr_wk    21280.0  11415.022556  82.874752  11249.0  11335.0  11420.00   \n",
       "sales       21280.0     28.874577  38.988147      0.0      6.0     18.00   \n",
       "sell_price  21209.0      2.397254   1.237024      1.0      1.5      1.58   \n",
       "\n",
       "                 75%       max  \n",
       "wm_yr_wk    11506.00  11544.00  \n",
       "sales          37.00    763.00  \n",
       "sell_price      2.98      4.98  "
      ]
     },
     "execution_count": 84,
     "metadata": {},
     "output_type": "execute_result"
    }
   ],
   "source": [
    "num.describe().T"
   ]
  },
  {
   "cell_type": "markdown",
   "id": "03148d0b",
   "metadata": {},
   "source": [
    "#### nulls"
   ]
  },
  {
   "cell_type": "code",
   "execution_count": 85,
   "id": "f32cda59",
   "metadata": {},
   "outputs": [
    {
     "data": {
      "text/plain": [
       "wm_yr_wk       0\n",
       "sales          0\n",
       "sell_price    71\n",
       "dtype: int64"
      ]
     },
     "execution_count": 85,
     "metadata": {},
     "output_type": "execute_result"
    }
   ],
   "source": [
    "num.isna().sum()"
   ]
  },
  {
   "cell_type": "code",
   "execution_count": 86,
   "id": "02b7061a",
   "metadata": {},
   "outputs": [
    {
     "data": {
      "text/plain": [
       "item_id\n",
       "FOODS_3_090     0\n",
       "FOODS_3_120     0\n",
       "FOODS_3_202     0\n",
       "FOODS_3_252     0\n",
       "FOODS_3_288    71\n",
       "FOODS_3_329     0\n",
       "FOODS_3_555     0\n",
       "FOODS_3_586     0\n",
       "FOODS_3_587     0\n",
       "FOODS_3_714     0\n",
       "Name: sell_price, dtype: int64"
      ]
     },
     "execution_count": 86,
     "metadata": {},
     "output_type": "execute_result"
    }
   ],
   "source": [
    "# by product\n",
    "\n",
    "df.groupby('item_id')['sell_price'].agg(lambda x: x.isna().sum())"
   ]
  },
  {
   "cell_type": "code",
   "execution_count": 87,
   "id": "5edfc4c9",
   "metadata": {},
   "outputs": [
    {
     "data": {
      "text/plain": [
       "sales\n",
       "0      71\n",
       "1       0\n",
       "2       0\n",
       "3       0\n",
       "4       0\n",
       "       ..\n",
       "554     0\n",
       "613     0\n",
       "620     0\n",
       "709     0\n",
       "763     0\n",
       "Name: sell_price, Length: 301, dtype: int64"
      ]
     },
     "execution_count": 87,
     "metadata": {},
     "output_type": "execute_result"
    }
   ],
   "source": [
    "# by sales\n",
    "\n",
    "df.groupby('sales')['sell_price'].agg(lambda x: x.isna().sum())\n"
   ]
  },
  {
   "cell_type": "code",
   "execution_count": 88,
   "id": "ac413138",
   "metadata": {},
   "outputs": [
    {
     "data": {
      "text/plain": [
       "0"
      ]
     },
     "execution_count": 88,
     "metadata": {},
     "output_type": "execute_result"
    }
   ],
   "source": [
    "df.loc[df.sell_price.isna()].sales.sum()"
   ]
  },
  {
   "cell_type": "code",
   "execution_count": 89,
   "id": "9f0ee6d5",
   "metadata": {},
   "outputs": [],
   "source": [
    "# this product doesn't have price information just the days that are no sales\n",
    "# we can change the null for its last known price\n",
    "# this can be tricky for the first cases where there are no known prices before\n",
    "\n",
    "# we can also impute by mode"
   ]
  },
  {
   "cell_type": "markdown",
   "id": "f4826f32",
   "metadata": {},
   "source": [
    "#### correct nulls"
   ]
  },
  {
   "cell_type": "code",
   "execution_count": 90,
   "id": "c5bda76c",
   "metadata": {},
   "outputs": [
    {
     "data": {
      "text/html": [
       "<div>\n",
       "<style scoped>\n",
       "    .dataframe tbody tr th:only-of-type {\n",
       "        vertical-align: middle;\n",
       "    }\n",
       "\n",
       "    .dataframe tbody tr th {\n",
       "        vertical-align: top;\n",
       "    }\n",
       "\n",
       "    .dataframe thead th {\n",
       "        text-align: right;\n",
       "    }\n",
       "</style>\n",
       "<table border=\"1\" class=\"dataframe\">\n",
       "  <thead>\n",
       "    <tr style=\"text-align: right;\">\n",
       "      <th></th>\n",
       "      <th>wm_yr_wk</th>\n",
       "      <th>sales</th>\n",
       "      <th>sell_price</th>\n",
       "      <th>item_id</th>\n",
       "    </tr>\n",
       "    <tr>\n",
       "      <th>date</th>\n",
       "      <th></th>\n",
       "      <th></th>\n",
       "      <th></th>\n",
       "      <th></th>\n",
       "    </tr>\n",
       "  </thead>\n",
       "  <tbody>\n",
       "    <tr>\n",
       "      <th>2013-01-01</th>\n",
       "      <td>11249</td>\n",
       "      <td>0</td>\n",
       "      <td>1.25</td>\n",
       "      <td>FOODS_3_090</td>\n",
       "    </tr>\n",
       "    <tr>\n",
       "      <th>2013-01-01</th>\n",
       "      <td>11249</td>\n",
       "      <td>0</td>\n",
       "      <td>4.98</td>\n",
       "      <td>FOODS_3_120</td>\n",
       "    </tr>\n",
       "    <tr>\n",
       "      <th>2013-01-01</th>\n",
       "      <td>11249</td>\n",
       "      <td>20</td>\n",
       "      <td>4.28</td>\n",
       "      <td>FOODS_3_202</td>\n",
       "    </tr>\n",
       "    <tr>\n",
       "      <th>2013-01-01</th>\n",
       "      <td>11249</td>\n",
       "      <td>34</td>\n",
       "      <td>1.48</td>\n",
       "      <td>FOODS_3_252</td>\n",
       "    </tr>\n",
       "    <tr>\n",
       "      <th>2013-01-01</th>\n",
       "      <td>11249</td>\n",
       "      <td>0</td>\n",
       "      <td>NaN</td>\n",
       "      <td>FOODS_3_288</td>\n",
       "    </tr>\n",
       "  </tbody>\n",
       "</table>\n",
       "</div>"
      ],
      "text/plain": [
       "            wm_yr_wk  sales  sell_price      item_id\n",
       "date                                                \n",
       "2013-01-01     11249      0        1.25  FOODS_3_090\n",
       "2013-01-01     11249      0        4.98  FOODS_3_120\n",
       "2013-01-01     11249     20        4.28  FOODS_3_202\n",
       "2013-01-01     11249     34        1.48  FOODS_3_252\n",
       "2013-01-01     11249      0         NaN  FOODS_3_288"
      ]
     },
     "execution_count": 90,
     "metadata": {},
     "output_type": "execute_result"
    }
   ],
   "source": [
    "num = pd.concat([num,cat.item_id], axis=1)\n",
    "num.head()"
   ]
  },
  {
   "cell_type": "code",
   "execution_count": 114,
   "id": "aed7c128",
   "metadata": {},
   "outputs": [],
   "source": [
    "mode_per_item = num.groupby('item_id')['sell_price'].transform(lambda x: x.fillna(x.mode()[0]))"
   ]
  },
  {
   "cell_type": "code",
   "execution_count": 119,
   "id": "bada7c26",
   "metadata": {},
   "outputs": [],
   "source": [
    "num['sell_price'] = mode_per_item"
   ]
  },
  {
   "cell_type": "code",
   "execution_count": 124,
   "id": "143d46e9",
   "metadata": {},
   "outputs": [
    {
     "data": {
      "text/plain": [
       "item_id      sell_price\n",
       "FOODS_3_090  1.48           658\n",
       "             1.38           546\n",
       "             1.44           504\n",
       "             1.00           280\n",
       "             1.50            90\n",
       "             1.25            50\n",
       "FOODS_3_120  4.98          2128\n",
       "FOODS_3_202  4.58           727\n",
       "             4.38           525\n",
       "             4.28           386\n",
       "             3.98           350\n",
       "             3.00           105\n",
       "             3.33            21\n",
       "             3.25             7\n",
       "             4.48             7\n",
       "FOODS_3_252  1.58          1182\n",
       "             1.48           946\n",
       "FOODS_3_288  1.50          2100\n",
       "             1.25            21\n",
       "             1.18             7\n",
       "FOODS_3_329  2.98          2079\n",
       "             2.74            42\n",
       "             1.98             7\n",
       "FOODS_3_555  1.58          1149\n",
       "             1.68           979\n",
       "FOODS_3_586  1.58          1149\n",
       "             1.68           979\n",
       "FOODS_3_587  2.48          1644\n",
       "             2.68           421\n",
       "             1.98            63\n",
       "FOODS_3_714  1.58          1322\n",
       "             1.48           806\n",
       "Name: count, dtype: int64"
      ]
     },
     "execution_count": 124,
     "metadata": {},
     "output_type": "execute_result"
    }
   ],
   "source": [
    "# checking\n",
    "\n",
    "num.groupby('item_id').sell_price.value_counts()"
   ]
  },
  {
   "cell_type": "code",
   "execution_count": 125,
   "id": "befa4eb1",
   "metadata": {},
   "outputs": [],
   "source": [
    "# drop the id we used\n",
    "num.drop(columns='item_id', inplace = True)"
   ]
  },
  {
   "cell_type": "code",
   "execution_count": null,
   "id": "a2a34095",
   "metadata": {},
   "outputs": [],
   "source": []
  },
  {
   "cell_type": "code",
   "execution_count": null,
   "id": "ce3c4923",
   "metadata": {},
   "outputs": [],
   "source": []
  },
  {
   "cell_type": "code",
   "execution_count": null,
   "id": "fba9c979",
   "metadata": {},
   "outputs": [],
   "source": []
  },
  {
   "cell_type": "code",
   "execution_count": null,
   "id": "fc233cdd",
   "metadata": {},
   "outputs": [],
   "source": []
  },
  {
   "cell_type": "code",
   "execution_count": null,
   "id": "5eda9a03",
   "metadata": {},
   "outputs": [],
   "source": []
  },
  {
   "cell_type": "code",
   "execution_count": null,
   "id": "68eb3f4f",
   "metadata": {},
   "outputs": [],
   "source": []
  }
 ],
 "metadata": {
  "kernelspec": {
   "display_name": "Python 3 (ipykernel)",
   "language": "python",
   "name": "python3"
  },
  "language_info": {
   "codemirror_mode": {
    "name": "ipython",
    "version": 3
   },
   "file_extension": ".py",
   "mimetype": "text/x-python",
   "name": "python",
   "nbconvert_exporter": "python",
   "pygments_lexer": "ipython3",
   "version": "3.11.11"
  }
 },
 "nbformat": 4,
 "nbformat_minor": 5
}
