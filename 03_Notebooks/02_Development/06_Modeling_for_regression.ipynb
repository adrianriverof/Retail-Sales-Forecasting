{
 "cells": [
  {
   "cell_type": "markdown",
   "id": "b8f27263",
   "metadata": {},
   "source": [
    "# Modeling"
   ]
  },
  {
   "cell_type": "code",
   "execution_count": 1,
   "id": "1b6d6f0f",
   "metadata": {},
   "outputs": [],
   "source": [
    "import numpy as np\n",
    "import pandas as pd\n",
    "import matplotlib.pyplot as plt\n",
    "%matplotlib inline\n",
    "\n",
    "from sklearn.model_selection import TimeSeriesSplit\n",
    "\n",
    "from sklearn.ensemble import HistGradientBoostingRegressor\n",
    "\n",
    "from sklearn.pipeline import Pipeline\n",
    "\n",
    "from sklearn.model_selection import RandomizedSearchCV\n",
    "\n",
    "from sklearn.metrics import mean_absolute_error\n",
    "\n",
    "%config IPCompleter.greedy=True\n",
    "\n",
    "pd.options.display.float_format = '{:.2f}'.format\n",
    "\n",
    "import warnings\n",
    "warnings.filterwarnings(\"ignore\")\n",
    "\n",
    "import pickle"
   ]
  },
  {
   "cell_type": "code",
   "execution_count": 2,
   "id": "ec649403",
   "metadata": {},
   "outputs": [],
   "source": [
    "\n",
    "x = pd.read_pickle('../../02_Data/03_Work/x_preselected.pickle')\n",
    "y = pd.read_pickle('../../02_Data/03_Work/y_preselected.pickle')\n"
   ]
  },
  {
   "cell_type": "markdown",
   "id": "7ed9be7c",
   "metadata": {},
   "source": [
    "## Modeling for a product"
   ]
  },
  {
   "cell_type": "code",
   "execution_count": 3,
   "id": "9f71fc2d",
   "metadata": {},
   "outputs": [
    {
     "ename": "ValueError",
     "evalue": "Cannot index with multidimensional key",
     "output_type": "error",
     "traceback": [
      "\u001b[31m---------------------------------------------------------------------------\u001b[39m",
      "\u001b[31mValueError\u001b[39m                                Traceback (most recent call last)",
      "\u001b[36mCell\u001b[39m\u001b[36m \u001b[39m\u001b[32mIn[3]\u001b[39m\u001b[32m, line 1\u001b[39m\n\u001b[32m----> \u001b[39m\u001b[32m1\u001b[39m x = \u001b[43mx\u001b[49m\u001b[43m.\u001b[49m\u001b[43mloc\u001b[49m\u001b[43m[\u001b[49m\u001b[43m(\u001b[49m\u001b[43mx\u001b[49m\u001b[43m.\u001b[49m\u001b[43mstore_id\u001b[49m\u001b[43m \u001b[49m\u001b[43m==\u001b[49m\u001b[43m \u001b[49m\u001b[33;43m'\u001b[39;49m\u001b[33;43mCA_3\u001b[39;49m\u001b[33;43m'\u001b[39;49m\u001b[43m)\u001b[49m\u001b[43m \u001b[49m\u001b[43m&\u001b[49m\u001b[43m \u001b[49m\u001b[43m(\u001b[49m\u001b[43mx\u001b[49m\u001b[43m.\u001b[49m\u001b[43mitem_id\u001b[49m\u001b[43m \u001b[49m\u001b[43m==\u001b[49m\u001b[43m \u001b[49m\u001b[33;43m'\u001b[39;49m\u001b[33;43mFOODS_3_586\u001b[39;49m\u001b[33;43m'\u001b[39;49m\u001b[43m)\u001b[49m\u001b[43m]\u001b[49m\n",
      "\u001b[36mFile \u001b[39m\u001b[32m~/miniconda3/envs/retail/lib/python3.11/site-packages/pandas/core/indexing.py:1191\u001b[39m, in \u001b[36m_LocationIndexer.__getitem__\u001b[39m\u001b[34m(self, key)\u001b[39m\n\u001b[32m   1189\u001b[39m maybe_callable = com.apply_if_callable(key, \u001b[38;5;28mself\u001b[39m.obj)\n\u001b[32m   1190\u001b[39m maybe_callable = \u001b[38;5;28mself\u001b[39m._check_deprecated_callable_usage(key, maybe_callable)\n\u001b[32m-> \u001b[39m\u001b[32m1191\u001b[39m \u001b[38;5;28;01mreturn\u001b[39;00m \u001b[38;5;28;43mself\u001b[39;49m\u001b[43m.\u001b[49m\u001b[43m_getitem_axis\u001b[49m\u001b[43m(\u001b[49m\u001b[43mmaybe_callable\u001b[49m\u001b[43m,\u001b[49m\u001b[43m \u001b[49m\u001b[43maxis\u001b[49m\u001b[43m=\u001b[49m\u001b[43maxis\u001b[49m\u001b[43m)\u001b[49m\n",
      "\u001b[36mFile \u001b[39m\u001b[32m~/miniconda3/envs/retail/lib/python3.11/site-packages/pandas/core/indexing.py:1418\u001b[39m, in \u001b[36m_LocIndexer._getitem_axis\u001b[39m\u001b[34m(self, key, axis)\u001b[39m\n\u001b[32m   1416\u001b[39m \u001b[38;5;28;01mif\u001b[39;00m \u001b[38;5;129;01mnot\u001b[39;00m (\u001b[38;5;28misinstance\u001b[39m(key, \u001b[38;5;28mtuple\u001b[39m) \u001b[38;5;129;01mand\u001b[39;00m \u001b[38;5;28misinstance\u001b[39m(labels, MultiIndex)):\n\u001b[32m   1417\u001b[39m     \u001b[38;5;28;01mif\u001b[39;00m \u001b[38;5;28mhasattr\u001b[39m(key, \u001b[33m\"\u001b[39m\u001b[33mndim\u001b[39m\u001b[33m\"\u001b[39m) \u001b[38;5;129;01mand\u001b[39;00m key.ndim > \u001b[32m1\u001b[39m:\n\u001b[32m-> \u001b[39m\u001b[32m1418\u001b[39m         \u001b[38;5;28;01mraise\u001b[39;00m \u001b[38;5;167;01mValueError\u001b[39;00m(\u001b[33m\"\u001b[39m\u001b[33mCannot index with multidimensional key\u001b[39m\u001b[33m\"\u001b[39m)\n\u001b[32m   1420\u001b[39m     \u001b[38;5;28;01mreturn\u001b[39;00m \u001b[38;5;28mself\u001b[39m._getitem_iterable(key, axis=axis)\n\u001b[32m   1422\u001b[39m \u001b[38;5;66;03m# nested tuple slicing\u001b[39;00m\n",
      "\u001b[31mValueError\u001b[39m: Cannot index with multidimensional key"
     ]
    }
   ],
   "source": [
    "x = x.loc[(x.store_id == 'CA_3') & (x.item_id == 'FOODS_3_586')]"
   ]
  },
  {
   "cell_type": "code",
   "execution_count": 4,
   "id": "3d3c8f2f",
   "metadata": {},
   "outputs": [
    {
     "name": "stdout",
     "output_type": "stream",
     "text": [
      "   store_id  store_id\n",
      "0      True      True\n",
      "1      True      True\n",
      "2      True      True\n",
      "3      True      True\n",
      "4      True      True\n"
     ]
    }
   ],
   "source": [
    "print((x.store_id == 'CA_3').head())  # Should return a Series of booleans"
   ]
  },
  {
   "cell_type": "code",
   "execution_count": 9,
   "id": "abe5c689",
   "metadata": {},
   "outputs": [
    {
     "name": "stdout",
     "output_type": "stream",
     "text": [
      "   item_id  item_id\n",
      "0    False    False\n",
      "1    False    False\n",
      "2    False    False\n",
      "3    False    False\n",
      "4    False    False\n"
     ]
    }
   ],
   "source": [
    "print((x.item_id == 'FOODS_3_586').head())  # Same here"
   ]
  },
  {
   "cell_type": "code",
   "execution_count": 15,
   "id": "9f396a1d",
   "metadata": {},
   "outputs": [
    {
     "data": {
      "text/plain": [
       "pandas.core.frame.DataFrame"
      ]
     },
     "execution_count": 15,
     "metadata": {},
     "output_type": "execute_result"
    }
   ],
   "source": [
    "type((x.item_id == 'FOODS_3_586').head())"
   ]
  },
  {
   "cell_type": "code",
   "execution_count": null,
   "id": "6dc8bc04",
   "metadata": {},
   "outputs": [],
   "source": [
    "c"
   ]
  },
  {
   "cell_type": "code",
   "execution_count": 16,
   "id": "179107eb",
   "metadata": {},
   "outputs": [
    {
     "data": {
      "text/html": [
       "<div>\n",
       "<style scoped>\n",
       "    .dataframe tbody tr th:only-of-type {\n",
       "        vertical-align: middle;\n",
       "    }\n",
       "\n",
       "    .dataframe tbody tr th {\n",
       "        vertical-align: top;\n",
       "    }\n",
       "\n",
       "    .dataframe thead th {\n",
       "        text-align: right;\n",
       "    }\n",
       "</style>\n",
       "<table border=\"1\" class=\"dataframe\">\n",
       "  <thead>\n",
       "    <tr style=\"text-align: right;\">\n",
       "      <th></th>\n",
       "      <th>item_id</th>\n",
       "      <th>item_id</th>\n",
       "    </tr>\n",
       "  </thead>\n",
       "  <tbody>\n",
       "    <tr>\n",
       "      <th>0</th>\n",
       "      <td>FOODS_3_090</td>\n",
       "      <td>FOODS_3_090</td>\n",
       "    </tr>\n",
       "    <tr>\n",
       "      <th>1</th>\n",
       "      <td>FOODS_3_090</td>\n",
       "      <td>FOODS_3_090</td>\n",
       "    </tr>\n",
       "    <tr>\n",
       "      <th>2</th>\n",
       "      <td>FOODS_3_090</td>\n",
       "      <td>FOODS_3_090</td>\n",
       "    </tr>\n",
       "    <tr>\n",
       "      <th>3</th>\n",
       "      <td>FOODS_3_090</td>\n",
       "      <td>FOODS_3_090</td>\n",
       "    </tr>\n",
       "    <tr>\n",
       "      <th>4</th>\n",
       "      <td>FOODS_3_090</td>\n",
       "      <td>FOODS_3_090</td>\n",
       "    </tr>\n",
       "    <tr>\n",
       "      <th>...</th>\n",
       "      <td>...</td>\n",
       "      <td>...</td>\n",
       "    </tr>\n",
       "    <tr>\n",
       "      <th>20975</th>\n",
       "      <td>FOODS_3_714</td>\n",
       "      <td>FOODS_3_714</td>\n",
       "    </tr>\n",
       "    <tr>\n",
       "      <th>20976</th>\n",
       "      <td>FOODS_3_714</td>\n",
       "      <td>FOODS_3_714</td>\n",
       "    </tr>\n",
       "    <tr>\n",
       "      <th>20977</th>\n",
       "      <td>FOODS_3_714</td>\n",
       "      <td>FOODS_3_714</td>\n",
       "    </tr>\n",
       "    <tr>\n",
       "      <th>20978</th>\n",
       "      <td>FOODS_3_714</td>\n",
       "      <td>FOODS_3_714</td>\n",
       "    </tr>\n",
       "    <tr>\n",
       "      <th>20979</th>\n",
       "      <td>FOODS_3_714</td>\n",
       "      <td>FOODS_3_714</td>\n",
       "    </tr>\n",
       "  </tbody>\n",
       "</table>\n",
       "<p>20980 rows × 2 columns</p>\n",
       "</div>"
      ],
      "text/plain": [
       "           item_id      item_id\n",
       "0      FOODS_3_090  FOODS_3_090\n",
       "1      FOODS_3_090  FOODS_3_090\n",
       "2      FOODS_3_090  FOODS_3_090\n",
       "3      FOODS_3_090  FOODS_3_090\n",
       "4      FOODS_3_090  FOODS_3_090\n",
       "...            ...          ...\n",
       "20975  FOODS_3_714  FOODS_3_714\n",
       "20976  FOODS_3_714  FOODS_3_714\n",
       "20977  FOODS_3_714  FOODS_3_714\n",
       "20978  FOODS_3_714  FOODS_3_714\n",
       "20979  FOODS_3_714  FOODS_3_714\n",
       "\n",
       "[20980 rows x 2 columns]"
      ]
     },
     "execution_count": 16,
     "metadata": {},
     "output_type": "execute_result"
    }
   ],
   "source": [
    "x.item_id"
   ]
  },
  {
   "cell_type": "code",
   "execution_count": 17,
   "id": "7414cffe",
   "metadata": {},
   "outputs": [
    {
     "name": "stdout",
     "output_type": "stream",
     "text": [
      "Index(['date', 'store_id', 'item_id', 'date', 'store_id', 'item_id',\n",
      "       'sales_meanlocal_8', 'sales_meanlocal_7', 'sales_meanlocal_6',\n",
      "       'sales_meanlocal_9', 'sales_meanlocal_3', 'sales_meanlocal_2',\n",
      "       'sales_meanlocal_10', 'sales_lag_1', 'sales_meanlocal_5',\n",
      "       'sales_maxlocal_2', 'sales_maxlocal_8', 'sales_meanlocal_4',\n",
      "       'sales_meanlocal_11', 'sales_maxlocal_7', 'sales_meanlocal_15',\n",
      "       'sales_maxlocal_9', 'sales_maxlocal_3', 'sales_meanlocal_13',\n",
      "       'sales_maxlocal_6', 'sales_meanlocal_12', 'sales_meanlocal_14',\n",
      "       'sales_maxlocal_4', 'sales_maxlocal_5', 'sales_maxlocal_10',\n",
      "       'sales_minlocal_2', 'sales_maxlocal_14', 'sales_maxlocal_11',\n",
      "       'sales_maxlocal_12', 'sales_maxlocal_13', 'sales_maxlocal_15',\n",
      "       'sales_minlocal_3', 'sales_minlocal_4', 'sales_minlocal_5',\n",
      "       'sales_minlocal_6', 'sales_lag_2', 'sales_minlocal_7',\n",
      "       'sales_minlocal_8', 'sales_lag_7', 'sales_minlocal_9', 'sales_lag_6',\n",
      "       'sales_minlocal_10', 'sales_lag_3', 'sales_minlocal_11', 'sales_lag_8',\n",
      "       'sales_lag_4', 'sales_minlocal_12', 'sales_minlocal_13', 'sales_lag_5',\n",
      "       'sales_minlocal_14', 'sales_minlocal_15', 'sales_lag_14',\n",
      "       'sales_lag_13', 'sales_lag_9', 'sales_lag_15', 'sales_lag_12',\n",
      "       'sales_lag_10', 'sales_lag_11', 'sell_price_lag_1', 'sell_price_lag_2',\n",
      "       'sell_price_lag_3', 'sell_price_lag_4', 'sell_price_lag_5',\n",
      "       'sell_price_lag_6', 'sell_price_lag_7', 'out_of_stock_3_lag_1',\n",
      "       'out_of_stock_7_lag_1', 'out_of_stock_15_lag_1', 'month_te', 'year_te',\n",
      "       'month_11', 'event_name_1_te'],\n",
      "      dtype='object')\n"
     ]
    }
   ],
   "source": [
    "print(x.columns)"
   ]
  },
  {
   "cell_type": "code",
   "execution_count": null,
   "id": "63b2649d",
   "metadata": {},
   "outputs": [],
   "source": []
  }
 ],
 "metadata": {
  "kernelspec": {
   "display_name": "Python 3 (ipykernel)",
   "language": "python",
   "name": "python3"
  },
  "language_info": {
   "codemirror_mode": {
    "name": "ipython",
    "version": 3
   },
   "file_extension": ".py",
   "mimetype": "text/x-python",
   "name": "python",
   "nbconvert_exporter": "python",
   "pygments_lexer": "ipython3",
   "version": "3.11.11"
  }
 },
 "nbformat": 4,
 "nbformat_minor": 5
}
